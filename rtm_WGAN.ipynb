{
 "cells": [
  {
   "cell_type": "markdown",
   "metadata": {},
   "source": [
    "# Wasserstien GAN"
   ]
  },
  {
   "cell_type": "code",
   "execution_count": 1,
   "metadata": {
    "collapsed": false
   },
   "outputs": [
    {
     "name": "stderr",
     "output_type": "stream",
     "text": [
      "Using TensorFlow backend.\n"
     ]
    }
   ],
   "source": [
    "import numpy as np\n",
    "from keras.preprocessing import image\n",
    "from keras.preprocessing.sequence import pad_sequences\n",
    "from keras.models import Model, Sequential\n",
    "from keras.layers import *\n",
    "from keras.optimizers import Adam, RMSprop\n",
    "import keras.backend as K\n",
    "import keras\n",
    "import matplotlib.pyplot as plt\n",
    "from tqdm import tqdm\n",
    "\n",
    "%matplotlib inline"
   ]
  },
  {
   "cell_type": "markdown",
   "metadata": {},
   "source": [
    "## Import and prep the MNIST data"
   ]
  },
  {
   "cell_type": "code",
   "execution_count": 2,
   "metadata": {
    "collapsed": false
   },
   "outputs": [
    {
     "name": "stdout",
     "output_type": "stream",
     "text": [
      "(60000, 28, 28)\n"
     ]
    }
   ],
   "source": [
    "from keras.datasets import mnist\n",
    "(X_train, y_train), (X_test, y_test) = mnist.load_data()\n",
    "print(X_train.shape)"
   ]
  },
  {
   "cell_type": "code",
   "execution_count": 3,
   "metadata": {
    "collapsed": true
   },
   "outputs": [],
   "source": [
    "X_train = X_train.reshape(-1, 28, 28, 1).astype(np.float32)\n",
    "X_test = X_test.reshape(-1, 28, 28, 1).astype(np.float32)"
   ]
  },
  {
   "cell_type": "code",
   "execution_count": 4,
   "metadata": {
    "collapsed": true
   },
   "outputs": [],
   "source": [
    "X_train /= 255.; X_test /= 255."
   ]
  },
  {
   "cell_type": "code",
   "execution_count": 5,
   "metadata": {
    "collapsed": true
   },
   "outputs": [],
   "source": [
    "n = len(X_train)"
   ]
  },
  {
   "cell_type": "markdown",
   "metadata": {},
   "source": [
    "## Utility functions"
   ]
  },
  {
   "cell_type": "markdown",
   "metadata": {},
   "source": [
    "generate a length 100 vector of random noise to feed the generator"
   ]
  },
  {
   "cell_type": "code",
   "execution_count": 6,
   "metadata": {
    "collapsed": true
   },
   "outputs": [],
   "source": [
    "def noise(batch_size): return np.random.rand(batch_size, 100)"
   ]
  },
  {
   "cell_type": "markdown",
   "metadata": {},
   "source": [
    "lock or release the weights of a model for training"
   ]
  },
  {
   "cell_type": "code",
   "execution_count": 7,
   "metadata": {
    "collapsed": true
   },
   "outputs": [],
   "source": [
    "def make_trainable(net, val):\n",
    "    net.trainable = val\n",
    "    for l in net.layers: l.trainable = val"
   ]
  },
  {
   "cell_type": "markdown",
   "metadata": {},
   "source": [
    "This is the main training loop. It contains two of the important improvements suggested by the wasserstien gan paper, namely to periodically train the discriminator more heavily and to clip the weights to a restricted set of values.\n",
    "\n",
    "Training progresses in two steps, with the descriminator being trained on a batch containing half real and half generated images, then the discriminators weights are locked and the full model is trained, using wasserstien loss on the discriminators predictions to update the weights of the generator."
   ]
  },
  {
   "cell_type": "code",
   "execution_count": 8,
   "metadata": {
    "collapsed": true
   },
   "outputs": [],
   "source": [
    "def train(D, G, m, epochs=2500, batch_size=128):\n",
    "    gen_iterations = 0\n",
    "    rl = []; fl = []; dl = []; gl= []\n",
    "    for epoch in tqdm(range(epochs)):\n",
    "        make_trainable(D, True)\n",
    "        # First Wasserstien improvement:\n",
    "        # Periodically train D more heavily\n",
    "        if gen_iterations < 25 or gen_iterations % 500 == 0:\n",
    "            disc_iterations = 100\n",
    "        else:\n",
    "            disc_iterations = 5\n",
    "        \n",
    "        # Train the discriminator\n",
    "        for iteration in range(disc_iterations):\n",
    "            # Second Wasserstien improvement:\n",
    "            # Clip weights -0.01 to 0.01\n",
    "            for l in D.layers:\n",
    "                weights = l.get_weights()\n",
    "                weights = [np.clip(w, -0.01, 0.01) for w in weights]\n",
    "                l.set_weights(weights)\n",
    "            \n",
    "            # Create batch of data and update discriminator\n",
    "            half_batch = batch_size//2\n",
    "            x_real_d = X_train[np.random.randint(0, n, size=half_batch)]\n",
    "            rl.append(D.train_on_batch(x_real_d, [-1]*half_batch))\n",
    "            \n",
    "            x_gen_d = G.predict(noise(half_batch))\n",
    "            fl.append(D.train_on_batch(x_gen_d, [1]*half_batch))\n",
    "            \n",
    "            dl.append(np.mean([-rl[-1], fl[-1]]))\n",
    "        \n",
    "        make_trainable(D, False)\n",
    "        \n",
    "        # Train the generator\n",
    "        gl.append(m.train_on_batch(noise(batch_size), [-1]*batch_size))\n",
    "        gen_iterations += 1\n",
    "        \n",
    "    return rl,fl,dl,gl"
   ]
  },
  {
   "cell_type": "markdown",
   "metadata": {},
   "source": [
    "## Generator Model"
   ]
  },
  {
   "cell_type": "markdown",
   "metadata": {},
   "source": [
    "Simple model with a fully connected block, followed by two upsampling blocks, then a final convolution layer."
   ]
  },
  {
   "cell_type": "code",
   "execution_count": 9,
   "metadata": {
    "collapsed": true
   },
   "outputs": [],
   "source": [
    "filters = 512\n",
    "gen_input = Input(shape=(100,), name=\"generator_input\")\n",
    "xg = Dense(512 * 7 * 7, input_dim=100)(gen_input)\n",
    "xg = LeakyReLU()(xg)\n",
    "xg = BatchNormalization()(xg)\n",
    "xg = Reshape((7, 7, 512))(xg)\n",
    "\n",
    "# Upsample to 14x14\n",
    "xg = UpSampling2D()(xg)\n",
    "xg = Conv2D(64, (3,3), padding='same')(xg)\n",
    "xg = BatchNormalization()(xg)\n",
    "xg = LeakyReLU()(xg)\n",
    "\n",
    "# Upsample to 28x28\n",
    "xg = UpSampling2D()(xg)\n",
    "xg = Conv2D(32, (3,3), padding='same')(xg)\n",
    "xg = BatchNormalization()(xg)\n",
    "xg = LeakyReLU()(xg)\n",
    "\n",
    "xg = Conv2D(1, (1,1), padding='same', activation='sigmoid')(xg)\n",
    "generator_model = Model(inputs=[gen_input], outputs=[xg], name='RyanGAN_G')"
   ]
  },
  {
   "cell_type": "code",
   "execution_count": 10,
   "metadata": {
    "collapsed": false
   },
   "outputs": [
    {
     "name": "stdout",
     "output_type": "stream",
     "text": [
      "_________________________________________________________________\n",
      "Layer (type)                 Output Shape              Param #   \n",
      "=================================================================\n",
      "generator_input (InputLayer) (None, 100)               0         \n",
      "_________________________________________________________________\n",
      "dense_1 (Dense)              (None, 25088)             2533888   \n",
      "_________________________________________________________________\n",
      "leaky_re_lu_1 (LeakyReLU)    (None, 25088)             0         \n",
      "_________________________________________________________________\n",
      "batch_normalization_1 (Batch (None, 25088)             100352    \n",
      "_________________________________________________________________\n",
      "reshape_1 (Reshape)          (None, 7, 7, 512)         0         \n",
      "_________________________________________________________________\n",
      "up_sampling2d_1 (UpSampling2 (None, 14, 14, 512)       0         \n",
      "_________________________________________________________________\n",
      "conv2d_1 (Conv2D)            (None, 14, 14, 64)        294976    \n",
      "_________________________________________________________________\n",
      "batch_normalization_2 (Batch (None, 14, 14, 64)        256       \n",
      "_________________________________________________________________\n",
      "leaky_re_lu_2 (LeakyReLU)    (None, 14, 14, 64)        0         \n",
      "_________________________________________________________________\n",
      "up_sampling2d_2 (UpSampling2 (None, 28, 28, 64)        0         \n",
      "_________________________________________________________________\n",
      "conv2d_2 (Conv2D)            (None, 28, 28, 32)        18464     \n",
      "_________________________________________________________________\n",
      "batch_normalization_3 (Batch (None, 28, 28, 32)        128       \n",
      "_________________________________________________________________\n",
      "leaky_re_lu_3 (LeakyReLU)    (None, 28, 28, 32)        0         \n",
      "_________________________________________________________________\n",
      "conv2d_3 (Conv2D)            (None, 28, 28, 1)         33        \n",
      "=================================================================\n",
      "Total params: 2,948,097\n",
      "Trainable params: 2,897,729\n",
      "Non-trainable params: 50,368\n",
      "_________________________________________________________________\n"
     ]
    }
   ],
   "source": [
    "generator_model.summary()"
   ]
  },
  {
   "cell_type": "markdown",
   "metadata": {},
   "source": [
    "## Discriminator Model"
   ]
  },
  {
   "cell_type": "code",
   "execution_count": 11,
   "metadata": {
    "collapsed": false
   },
   "outputs": [],
   "source": [
    "min_s = 28\n",
    "num_convolutions = int(np.floor(np.log(min_s // 4) / np.log(2)))\n",
    "list_filters = [64 * min(8, (2 ** i)) for i in range(num_convolutions)]\n",
    "\n",
    "disc_input = Input(shape=(28,28,1), name='discriminator_input')\n",
    "xd = Conv2D(list_filters[0], (3,3), strides=(2,2), padding='same', use_bias=False)(disc_input)\n",
    "xd = BatchNormalization()(xd)\n",
    "xd = LeakyReLU(0.2)(xd)\n",
    "\n",
    "for i, f in enumerate(list_filters[1:]):\n",
    "    xd = Conv2D(f, (3,3), strides=(2,2), padding='same', use_bias=False)(xd)\n",
    "    xd = BatchNormalization()(xd)\n",
    "    xd = LeakyReLU(0.2)(xd)\n",
    "\n",
    "xd = Conv2D(1, (3,3), padding='same', use_bias=False)(xd)\n",
    "xd = GlobalAveragePooling2D()(xd)\n",
    "xd = Activation('tanh')(xd)\n",
    "\n",
    "discriminiator_model = Model(inputs=[disc_input], outputs=[xd], name='RyanGAN_D')"
   ]
  },
  {
   "cell_type": "code",
   "execution_count": 12,
   "metadata": {
    "collapsed": false
   },
   "outputs": [
    {
     "name": "stdout",
     "output_type": "stream",
     "text": [
      "_________________________________________________________________\n",
      "Layer (type)                 Output Shape              Param #   \n",
      "=================================================================\n",
      "discriminator_input (InputLa (None, 28, 28, 1)         0         \n",
      "_________________________________________________________________\n",
      "conv2d_4 (Conv2D)            (None, 14, 14, 64)        576       \n",
      "_________________________________________________________________\n",
      "batch_normalization_4 (Batch (None, 14, 14, 64)        256       \n",
      "_________________________________________________________________\n",
      "leaky_re_lu_4 (LeakyReLU)    (None, 14, 14, 64)        0         \n",
      "_________________________________________________________________\n",
      "conv2d_5 (Conv2D)            (None, 7, 7, 128)         73728     \n",
      "_________________________________________________________________\n",
      "batch_normalization_5 (Batch (None, 7, 7, 128)         512       \n",
      "_________________________________________________________________\n",
      "leaky_re_lu_5 (LeakyReLU)    (None, 7, 7, 128)         0         \n",
      "_________________________________________________________________\n",
      "conv2d_6 (Conv2D)            (None, 7, 7, 1)           1152      \n",
      "_________________________________________________________________\n",
      "global_average_pooling2d_1 ( (None, 1)                 0         \n",
      "_________________________________________________________________\n",
      "activation_1 (Activation)    (None, 1)                 0         \n",
      "=================================================================\n",
      "Total params: 76,224\n",
      "Trainable params: 75,840\n",
      "Non-trainable params: 384\n",
      "_________________________________________________________________\n"
     ]
    }
   ],
   "source": [
    "discriminiator_model.summary()"
   ]
  },
  {
   "cell_type": "markdown",
   "metadata": {},
   "source": [
    "## WGAN Model"
   ]
  },
  {
   "cell_type": "code",
   "execution_count": 13,
   "metadata": {
    "collapsed": false
   },
   "outputs": [],
   "source": [
    "wgan_input = Input(shape=(100,), name='input')\n",
    "generated_image = generator_model(wgan_input)\n",
    "wgan_output = discriminiator_model(generated_image)\n",
    "\n",
    "wgan = Model(inputs=[wgan_input], outputs=[wgan_output], name='RyanGAN')"
   ]
  },
  {
   "cell_type": "code",
   "execution_count": 14,
   "metadata": {
    "collapsed": true
   },
   "outputs": [],
   "source": [
    "def wasserstein(y_true, y_pred):\n",
    "    return K.mean(y_true * y_pred)"
   ]
  },
  {
   "cell_type": "code",
   "execution_count": 15,
   "metadata": {
    "collapsed": false
   },
   "outputs": [],
   "source": [
    "gen_opt = RMSprop(lr=5e-5)\n",
    "des_opt = RMSprop(lr=5e-5)\n",
    "\n",
    "generator_model.compile(loss='mse', optimizer=gen_opt)\n",
    "wgan.compile(loss=wasserstein, optimizer=gen_opt)\n",
    "discriminiator_model.compile(loss=wasserstein, optimizer=des_opt)"
   ]
  },
  {
   "cell_type": "code",
   "execution_count": 49,
   "metadata": {
    "collapsed": false
   },
   "outputs": [
    {
     "name": "stderr",
     "output_type": "stream",
     "text": [
      "100%|██████████| 200/200 [02:05<00:00,  1.60it/s]\n"
     ]
    }
   ],
   "source": [
    "rl,fl,dl,gl = train(discriminiator_model, generator_model, wgan, epochs=200, batch_size=64)"
   ]
  },
  {
   "cell_type": "code",
   "execution_count": 50,
   "metadata": {
    "collapsed": false
   },
   "outputs": [
    {
     "data": {
      "text/plain": [
       "[<matplotlib.lines.Line2D at 0x7f9bc03644a8>]"
      ]
     },
     "execution_count": 50,
     "metadata": {},
     "output_type": "execute_result"
    },
    {
     "data": {
      "image/png": "[encoded data removed]",
      "text/plain": [
       "<matplotlib.figure.Figure at 0x7f9bc0253908>"
      ]
     },
     "metadata": {},
     "output_type": "display_data"
    }
   ],
   "source": [
    "plt.plot(dl)"
   ]
  },
  {
   "cell_type": "code",
   "execution_count": 51,
   "metadata": {
    "collapsed": false
   },
   "outputs": [
    {
     "data": {
      "text/plain": [
       "[<matplotlib.lines.Line2D at 0x7f9bc0193f28>]"
      ]
     },
     "execution_count": 51,
     "metadata": {},
     "output_type": "execute_result"
    },
    {
     "data": {
      "image/png": "[encoded data removed]",
      "text/plain": [
       "<matplotlib.figure.Figure at 0x7f9bc0391630>"
      ]
     },
     "metadata": {},
     "output_type": "display_data"
    }
   ],
   "source": [
    "plt.plot(gl)"
   ]
  },
  {
   "cell_type": "code",
   "execution_count": 52,
   "metadata": {
    "collapsed": true
   },
   "outputs": [],
   "source": [
    "generated = generator_model.predict(noise(20)).reshape(20, 28,28)"
   ]
  },
  {
   "cell_type": "code",
   "execution_count": 53,
   "metadata": {
    "collapsed": false
   },
   "outputs": [
    {
     "data": {
      "text/plain": [
       "<matplotlib.image.AxesImage at 0x7f9bc0102c18>"
      ]
     },
     "execution_count": 53,
     "metadata": {},
     "output_type": "execute_result"
    },
    {
     "data": {
      "image/png": "[encoded data removed]",
      "text/plain": [
       "<matplotlib.figure.Figure at 0x7f9bc0134a20>"
      ]
     },
     "metadata": {},
     "output_type": "display_data"
    }
   ],
   "source": [
    "plt.imshow(generated[3], cmap='gray')"
   ]
  },
  {
   "cell_type": "code",
   "execution_count": 54,
   "metadata": {
    "collapsed": false
   },
   "outputs": [
    {
     "data": {
      "text/plain": [
       "<matplotlib.image.AxesImage at 0x7f9bc0068438>"
      ]
     },
     "execution_count": 54,
     "metadata": {},
     "output_type": "execute_result"
    },
    {
     "data": {
      "image/png": "[encoded data removed]",
      "text/plain": [
       "<matplotlib.figure.Figure at 0x7f9bc00a2b70>"
      ]
     },
     "metadata": {},
     "output_type": "display_data"
    }
   ],
   "source": [
    "plt.imshow(generated[11], cmap='gray')"
   ]
  },
  {
   "cell_type": "code",
   "execution_count": 42,
   "metadata": {
    "collapsed": false
   },
   "outputs": [
    {
     "data": {
      "text/plain": [
       "<matplotlib.image.AxesImage at 0x7f9bc03a3e80>"
      ]
     },
     "execution_count": 42,
     "metadata": {},
     "output_type": "execute_result"
    },
    {
     "data": {
      "image/png": "[encoded data removed]",
      "text/plain": [
       "<matplotlib.figure.Figure at 0x7f9bc048c940>"
      ]
     },
     "metadata": {},
     "output_type": "display_data"
    }
   ],
   "source": [
    "plt.imshow(X_train[0][:,:,0], cmap='gray')"
   ]
  },
  {
   "cell_type": "code",
   "execution_count": null,
   "metadata": {
    "collapsed": true
   },
   "outputs": [],
   "source": []
  }
 ],
 "metadata": {
  "anaconda-cloud": {},
  "kernelspec": {
   "display_name": "Python [conda root]",
   "language": "python",
   "name": "conda-root-py"
  },
  "language_info": {
   "codemirror_mode": {
    "name": "ipython",
    "version": 3
   },
   "file_extension": ".py",
   "mimetype": "text/x-python",
   "name": "python",
   "nbconvert_exporter": "python",
   "pygments_lexer": "ipython3",
   "version": "3.5.2"
  }
 },
 "nbformat": 4,
 "nbformat_minor": 1
}
